{
 "cells": [
  {
   "cell_type": "code",
   "execution_count": 1,
   "metadata": {
    "collapsed": true
   },
   "outputs": [],
   "source": [
    "import pandas as pd\n"
   ]
  },
  {
   "cell_type": "code",
   "execution_count": 2,
   "outputs": [],
   "source": [
    "x = pd.read_csv('clean_users.csv')\n"
   ],
   "metadata": {
    "collapsed": false,
    "pycharm": {
     "name": "#%%\n"
    }
   }
  },
  {
   "cell_type": "code",
   "execution_count": 3,
   "outputs": [],
   "source": [
    "m = x[x.gender == 'male'].reset_index(drop=True)\n",
    "f = x[x.gender == 'female'].reset_index(drop=True)"
   ],
   "metadata": {
    "collapsed": false,
    "pycharm": {
     "name": "#%%\n"
    }
   }
  },
  {
   "cell_type": "code",
   "execution_count": 4,
   "outputs": [],
   "source": [
    "m1 = m.sample(frac=1,random_state=42).reset_index(drop=True)\n",
    "m2 = m.sample(frac=1,random_state=44).reset_index(drop=True)\n",
    "m3 = m.sample(frac=1,random_state=43).reset_index(drop=True)"
   ],
   "metadata": {
    "collapsed": false,
    "pycharm": {
     "name": "#%%\n"
    }
   }
  },
  {
   "cell_type": "code",
   "execution_count": 5,
   "outputs": [
    {
     "data": {
      "text/plain": "                         name     surname        phone gender  \\\n0                       Zenon  Sokołowski  48602369269   male   \n1                      Edward       Rumin  48530525050   male   \n2                       Krzys    Michalik  48517678268   male   \n3                      Cezary       Topór  48790603986   male   \n4                       Zenon     Mazurek  48535919878   male   \n...                       ...         ...          ...    ...   \n633781                  Piotr     Feszter  48669802176   male   \n633782                  Kamil      Gębala  48508608100   male   \n633783  Mechanika Samochodowa     Walczak  48533132990   male   \n633784                  Piotr      Gorska  48604914198   male   \n633785                 Wojtek       Kozak  48788658300   male   \n\n                                 location  \n0                           Bielsko-Biała  \n1       Dobra, Zachodniopomorskie, Poland  \n2               Leszczyna, Tarnow, Poland  \n3             Spytkowice, Bielsko, Poland  \n4                            Łódź, Poland  \n...                                   ...  \n633781                   Jastrzebie Zdroj  \n633782                    Tarnowskie Góry  \n633783                Konstancin-Jeziorna  \n633784                    Chorzów, Poland  \n633785                Lipka, Pila, Poland  \n\n[633786 rows x 5 columns]",
      "text/html": "<div>\n<style scoped>\n    .dataframe tbody tr th:only-of-type {\n        vertical-align: middle;\n    }\n\n    .dataframe tbody tr th {\n        vertical-align: top;\n    }\n\n    .dataframe thead th {\n        text-align: right;\n    }\n</style>\n<table border=\"1\" class=\"dataframe\">\n  <thead>\n    <tr style=\"text-align: right;\">\n      <th></th>\n      <th>name</th>\n      <th>surname</th>\n      <th>phone</th>\n      <th>gender</th>\n      <th>location</th>\n    </tr>\n  </thead>\n  <tbody>\n    <tr>\n      <th>0</th>\n      <td>Zenon</td>\n      <td>Sokołowski</td>\n      <td>48602369269</td>\n      <td>male</td>\n      <td>Bielsko-Biała</td>\n    </tr>\n    <tr>\n      <th>1</th>\n      <td>Edward</td>\n      <td>Rumin</td>\n      <td>48530525050</td>\n      <td>male</td>\n      <td>Dobra, Zachodniopomorskie, Poland</td>\n    </tr>\n    <tr>\n      <th>2</th>\n      <td>Krzys</td>\n      <td>Michalik</td>\n      <td>48517678268</td>\n      <td>male</td>\n      <td>Leszczyna, Tarnow, Poland</td>\n    </tr>\n    <tr>\n      <th>3</th>\n      <td>Cezary</td>\n      <td>Topór</td>\n      <td>48790603986</td>\n      <td>male</td>\n      <td>Spytkowice, Bielsko, Poland</td>\n    </tr>\n    <tr>\n      <th>4</th>\n      <td>Zenon</td>\n      <td>Mazurek</td>\n      <td>48535919878</td>\n      <td>male</td>\n      <td>Łódź, Poland</td>\n    </tr>\n    <tr>\n      <th>...</th>\n      <td>...</td>\n      <td>...</td>\n      <td>...</td>\n      <td>...</td>\n      <td>...</td>\n    </tr>\n    <tr>\n      <th>633781</th>\n      <td>Piotr</td>\n      <td>Feszter</td>\n      <td>48669802176</td>\n      <td>male</td>\n      <td>Jastrzebie Zdroj</td>\n    </tr>\n    <tr>\n      <th>633782</th>\n      <td>Kamil</td>\n      <td>Gębala</td>\n      <td>48508608100</td>\n      <td>male</td>\n      <td>Tarnowskie Góry</td>\n    </tr>\n    <tr>\n      <th>633783</th>\n      <td>Mechanika Samochodowa</td>\n      <td>Walczak</td>\n      <td>48533132990</td>\n      <td>male</td>\n      <td>Konstancin-Jeziorna</td>\n    </tr>\n    <tr>\n      <th>633784</th>\n      <td>Piotr</td>\n      <td>Gorska</td>\n      <td>48604914198</td>\n      <td>male</td>\n      <td>Chorzów, Poland</td>\n    </tr>\n    <tr>\n      <th>633785</th>\n      <td>Wojtek</td>\n      <td>Kozak</td>\n      <td>48788658300</td>\n      <td>male</td>\n      <td>Lipka, Pila, Poland</td>\n    </tr>\n  </tbody>\n</table>\n<p>633786 rows × 5 columns</p>\n</div>"
     },
     "execution_count": 5,
     "metadata": {},
     "output_type": "execute_result"
    }
   ],
   "source": [
    "m['surname'] = m1['surname']\n",
    "m['phone'] = m2['phone']\n",
    "m['location'] = m3['location']\n",
    "m"
   ],
   "metadata": {
    "collapsed": false,
    "pycharm": {
     "name": "#%%\n"
    }
   }
  },
  {
   "cell_type": "code",
   "execution_count": 8,
   "outputs": [],
   "source": [
    "f1 = f.sample(frac=1,random_state=42).reset_index(drop=True)\n",
    "f2 = f.sample(frac=1,random_state=44).reset_index(drop=True)\n",
    "f3 = f.sample(frac=1,random_state=43).reset_index(drop=True)"
   ],
   "metadata": {
    "collapsed": false,
    "pycharm": {
     "name": "#%%\n"
    }
   }
  },
  {
   "cell_type": "code",
   "execution_count": 9,
   "outputs": [],
   "source": [
    "f['surname'] = f1['surname']\n",
    "f['phone'] = f2['phone']\n",
    "f['location'] = f3['location']\n",
    "x = m.append(f,ignore_index=True)"
   ],
   "metadata": {
    "collapsed": false,
    "pycharm": {
     "name": "#%%\n"
    }
   }
  },
  {
   "cell_type": "code",
   "execution_count": 11,
   "outputs": [],
   "source": [
    "x.to_csv('users_randomized.csv',encoding='utf-8',index=False)\n"
   ],
   "metadata": {
    "collapsed": false,
    "pycharm": {
     "name": "#%%\n"
    }
   }
  },
  {
   "cell_type": "code",
   "execution_count": 12,
   "outputs": [
    {
     "data": {
      "text/plain": "             name        surname        phone  gender  \\\n0           Zenon     Sokołowski  48602369269    male   \n1          Edward          Rumin  48530525050    male   \n2           Krzys       Michalik  48517678268    male   \n3          Cezary          Topór  48790603986    male   \n4           Zenon        Mazurek  48535919878    male   \n...           ...            ...          ...     ...   \n1300947  Wiktoria     Dworszczak  48881319281  female   \n1300948    Danuta      Bieżuńska  48508058361  female   \n1300949  Karolina         Litwin  48519480071  female   \n1300950  Dominika   Czerechowicz  48604063158  female   \n1300951   Barbara  Pilok Haławin  48728154569  female   \n\n                                  location  \n0                            Bielsko-Biała  \n1        Dobra, Zachodniopomorskie, Poland  \n2                Leszczyna, Tarnow, Poland  \n3              Spytkowice, Bielsko, Poland  \n4                             Łódź, Poland  \n...                                    ...  \n1300947           Ciechocin, Toruń, Poland  \n1300948                        Ladek-Zdroj  \n1300949                            Olsztyn  \n1300950                            Skawina  \n1300951            Głogow, Legnica, Poland  \n\n[1300952 rows x 5 columns]",
      "text/html": "<div>\n<style scoped>\n    .dataframe tbody tr th:only-of-type {\n        vertical-align: middle;\n    }\n\n    .dataframe tbody tr th {\n        vertical-align: top;\n    }\n\n    .dataframe thead th {\n        text-align: right;\n    }\n</style>\n<table border=\"1\" class=\"dataframe\">\n  <thead>\n    <tr style=\"text-align: right;\">\n      <th></th>\n      <th>name</th>\n      <th>surname</th>\n      <th>phone</th>\n      <th>gender</th>\n      <th>location</th>\n    </tr>\n  </thead>\n  <tbody>\n    <tr>\n      <th>0</th>\n      <td>Zenon</td>\n      <td>Sokołowski</td>\n      <td>48602369269</td>\n      <td>male</td>\n      <td>Bielsko-Biała</td>\n    </tr>\n    <tr>\n      <th>1</th>\n      <td>Edward</td>\n      <td>Rumin</td>\n      <td>48530525050</td>\n      <td>male</td>\n      <td>Dobra, Zachodniopomorskie, Poland</td>\n    </tr>\n    <tr>\n      <th>2</th>\n      <td>Krzys</td>\n      <td>Michalik</td>\n      <td>48517678268</td>\n      <td>male</td>\n      <td>Leszczyna, Tarnow, Poland</td>\n    </tr>\n    <tr>\n      <th>3</th>\n      <td>Cezary</td>\n      <td>Topór</td>\n      <td>48790603986</td>\n      <td>male</td>\n      <td>Spytkowice, Bielsko, Poland</td>\n    </tr>\n    <tr>\n      <th>4</th>\n      <td>Zenon</td>\n      <td>Mazurek</td>\n      <td>48535919878</td>\n      <td>male</td>\n      <td>Łódź, Poland</td>\n    </tr>\n    <tr>\n      <th>...</th>\n      <td>...</td>\n      <td>...</td>\n      <td>...</td>\n      <td>...</td>\n      <td>...</td>\n    </tr>\n    <tr>\n      <th>1300947</th>\n      <td>Wiktoria</td>\n      <td>Dworszczak</td>\n      <td>48881319281</td>\n      <td>female</td>\n      <td>Ciechocin, Toruń, Poland</td>\n    </tr>\n    <tr>\n      <th>1300948</th>\n      <td>Danuta</td>\n      <td>Bieżuńska</td>\n      <td>48508058361</td>\n      <td>female</td>\n      <td>Ladek-Zdroj</td>\n    </tr>\n    <tr>\n      <th>1300949</th>\n      <td>Karolina</td>\n      <td>Litwin</td>\n      <td>48519480071</td>\n      <td>female</td>\n      <td>Olsztyn</td>\n    </tr>\n    <tr>\n      <th>1300950</th>\n      <td>Dominika</td>\n      <td>Czerechowicz</td>\n      <td>48604063158</td>\n      <td>female</td>\n      <td>Skawina</td>\n    </tr>\n    <tr>\n      <th>1300951</th>\n      <td>Barbara</td>\n      <td>Pilok Haławin</td>\n      <td>48728154569</td>\n      <td>female</td>\n      <td>Głogow, Legnica, Poland</td>\n    </tr>\n  </tbody>\n</table>\n<p>1300952 rows × 5 columns</p>\n</div>"
     },
     "execution_count": 12,
     "metadata": {},
     "output_type": "execute_result"
    }
   ],
   "source": [
    "x"
   ],
   "metadata": {
    "collapsed": false,
    "pycharm": {
     "name": "#%%\n"
    }
   }
  },
  {
   "cell_type": "code",
   "execution_count": null,
   "outputs": [],
   "source": [],
   "metadata": {
    "collapsed": false,
    "pycharm": {
     "name": "#%%\n"
    }
   }
  }
 ],
 "metadata": {
  "kernelspec": {
   "display_name": "Python 3",
   "language": "python",
   "name": "python3"
  },
  "language_info": {
   "codemirror_mode": {
    "name": "ipython",
    "version": 2
   },
   "file_extension": ".py",
   "mimetype": "text/x-python",
   "name": "python",
   "nbconvert_exporter": "python",
   "pygments_lexer": "ipython2",
   "version": "2.7.6"
  }
 },
 "nbformat": 4,
 "nbformat_minor": 0
}