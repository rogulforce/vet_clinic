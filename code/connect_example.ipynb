{
 "cells": [
  {
   "cell_type": "code",
   "execution_count": 3,
   "metadata": {
    "collapsed": true
   },
   "outputs": [],
   "source": [
    "import mariadb\n",
    "import sys"
   ]
  },
  {
   "cell_type": "code",
   "execution_count": 2,
   "outputs": [
    {
     "name": "stdout",
     "output_type": "stream",
     "text": [
      "localhost\n",
      "connected!\n"
     ]
    }
   ],
   "source": [
    "# Connect to MariaDB Platform\n",
    "try:\n",
    "    conn = mariadb.connect(\n",
    "        user=\"root\",\n",
    "        password=\"admin\",\n",
    "        host=\"localhost\",\n",
    "        port=3306,\n",
    "        database=\"test\"\n",
    "    )\n",
    "    print('localhost')\n",
    "    print('connected!')\n",
    "\n",
    "except mariadb.Error as e:\n",
    "    print(f\"Error connecting to MariaDB Platform: {e}\")\n",
    "    sys.exit(1)\n",
    "\n",
    "# Get Cursor\n",
    "cur = conn.cursor()"
   ],
   "metadata": {
    "collapsed": false,
    "pycharm": {
     "name": "#%%\n"
    }
   }
  },
  {
   "cell_type": "code",
   "execution_count": 4,
   "outputs": [],
   "source": [
    "# create table\n",
    "cur.execute(\"CREATE OR REPLACE TABLE sample (id INT, name TEXT);\")"
   ],
   "metadata": {
    "collapsed": false,
    "pycharm": {
     "name": "#%%\n"
    }
   }
  },
  {
   "cell_type": "code",
   "execution_count": 7,
   "outputs": [
    {
     "name": "stdout",
     "output_type": "stream",
     "text": [
      "12\n"
     ]
    }
   ],
   "source": [
    "# insert values\n",
    "print(12)\n",
    "cur.execute(\"INSERT INTO sample (id, name) VALUES (1,'hwdp')\")\n",
    "cur.execute(\"INSERT INTO sample (id, name) VALUES (2,'jp')\")\n",
    "cur.execute(\"INSERT INTO sample (id, name) VALUES (3,'na')\")\n",
    "cur.execute(\"INSERT INTO sample (id, name) VALUES (4,'100pro')\")\n",
    "cur.execute(\"INSERT INTO sample (id, name) VALUES (1,'haha')\")"
   ],
   "metadata": {
    "collapsed": false,
    "pycharm": {
     "name": "#%%\n"
    }
   }
  },
  {
   "cell_type": "code",
   "execution_count": 8,
   "outputs": [
    {
     "name": "stdout",
     "output_type": "stream",
     "text": [
      "(1, 'hwdp')\n",
      "(2, 'jp')\n",
      "(3, 'na')\n",
      "(4, '100pro')\n",
      "(1, 'haha')\n",
      "(1, 'hwdp')\n",
      "(2, 'jp')\n",
      "(3, 'na')\n",
      "(4, '100pro')\n",
      "(1, 'haha')\n"
     ]
    }
   ],
   "source": [
    "# select values\n",
    "cur.execute(\"SELECT * FROM sample\")\n",
    "for item in cur:\n",
    "    print(item)"
   ],
   "metadata": {
    "collapsed": false,
    "pycharm": {
     "name": "#%%\n"
    }
   }
  },
  {
   "cell_type": "code",
   "execution_count": 5,
   "outputs": [],
   "source": [],
   "metadata": {
    "collapsed": false,
    "pycharm": {
     "name": "#%%\n"
    }
   }
  }
 ],
 "metadata": {
  "kernelspec": {
   "display_name": "Python 3",
   "language": "python",
   "name": "python3"
  },
  "language_info": {
   "codemirror_mode": {
    "name": "ipython",
    "version": 2
   },
   "file_extension": ".py",
   "mimetype": "text/x-python",
   "name": "python",
   "nbconvert_exporter": "python",
   "pygments_lexer": "ipython2",
   "version": "2.7.6"
  }
 },
 "nbformat": 4,
 "nbformat_minor": 0
}