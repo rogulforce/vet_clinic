{
 "cells": [
  {
   "cell_type": "code",
   "execution_count": 1,
   "metadata": {
    "collapsed": true
   },
   "outputs": [],
   "source": [
    "import pandas as pd"
   ]
  },
  {
   "cell_type": "code",
   "execution_count": 2,
   "outputs": [],
   "source": [
    "x = pd.read_csv('Poland.txt',delimiter=':')"
   ],
   "metadata": {
    "collapsed": false,
    "pycharm": {
     "name": "#%%\n"
    }
   }
  },
  {
   "cell_type": "code",
   "execution_count": 3,
   "outputs": [],
   "source": [
    "x.rename(columns = {'48504147507': 'phone',\n",
    "                    'Anna': 'name',\n",
    "                    'Węglińska': 'surname',\n",
    "                    'female': 'gender', 'Unnamed: 5': 'location'}, inplace = True)"
   ],
   "metadata": {
    "collapsed": false,
    "pycharm": {
     "name": "#%%\n"
    }
   }
  },
  {
   "cell_type": "code",
   "execution_count": 28,
   "outputs": [],
   "source": [
    "x = x[['name', 'surname', 'phone', 'gender', 'location']]\n",
    "x = x.dropna()"
   ],
   "metadata": {
    "collapsed": false,
    "pycharm": {
     "name": "#%%\n"
    }
   }
  },
  {
   "cell_type": "code",
   "execution_count": 13,
   "outputs": [],
   "source": [
    "drop_ind=[]\n",
    "chars = ['a','e','i','o','u','y','ą','ę','ó']\n",
    "for i, sur in enumerate(x.surname):\n",
    "    if not any([characters in chars for characters in sur]):\n",
    "        # print(i, sur)\n",
    "        drop_ind.append(i)"
   ],
   "metadata": {
    "collapsed": false,
    "pycharm": {
     "name": "#%%\n"
    }
   }
  },
  {
   "cell_type": "code",
   "execution_count": 26,
   "outputs": [],
   "source": [
    "# x.loc[1314967,:]\n",
    "x = x.reset_index()\n",
    "x = x.drop(drop_ind)"
   ],
   "metadata": {
    "collapsed": false,
    "pycharm": {
     "name": "#%%\n"
    }
   }
  },
  {
   "cell_type": "code",
   "execution_count": 27,
   "outputs": [
    {
     "data": {
      "text/plain": "           index      name      surname        phone  gender  \\\n0              0   Barbara      Kolenda  48504147524  female   \n1              1     Zenon     Zatyracz  48504147529    male   \n2              2    Edward    Bocheński  48504147555    male   \n3              3     Krzys          Kul  48504147598    male   \n4              4       Ewa      Ptaszek  48504147599  female   \n...          ...       ...          ...          ...     ...   \n1300947  1300947  Karolina    Urbanczyk  48889996967  female   \n1300948  1300948  Dominika    Patkowska  48889998080  female   \n1300949  1300949     Piotr  Łuszczyński  48889998255    male   \n1300950  1300950    Wojtek       Szajna  48889998437    male   \n1300951  1300951   Barbara    Tochowicz  48889998495  female   \n\n                                 location  \n0                        Szczecin, Poland  \n1                        Szczecin, Poland  \n2                               Nowy Sacz  \n3                            Nysa, Poland  \n4        Krynica Zdrój, Nowy Sącz, Poland  \n...                                   ...  \n1300947                          Ortowice  \n1300948                          Jelesnia  \n1300949                    Małusy Wielkie  \n1300950                   Wroclaw, Poland  \n1300951                  Katowice, Poland  \n\n[1300952 rows x 6 columns]",
      "text/html": "<div>\n<style scoped>\n    .dataframe tbody tr th:only-of-type {\n        vertical-align: middle;\n    }\n\n    .dataframe tbody tr th {\n        vertical-align: top;\n    }\n\n    .dataframe thead th {\n        text-align: right;\n    }\n</style>\n<table border=\"1\" class=\"dataframe\">\n  <thead>\n    <tr style=\"text-align: right;\">\n      <th></th>\n      <th>index</th>\n      <th>name</th>\n      <th>surname</th>\n      <th>phone</th>\n      <th>gender</th>\n      <th>location</th>\n    </tr>\n  </thead>\n  <tbody>\n    <tr>\n      <th>0</th>\n      <td>0</td>\n      <td>Barbara</td>\n      <td>Kolenda</td>\n      <td>48504147524</td>\n      <td>female</td>\n      <td>Szczecin, Poland</td>\n    </tr>\n    <tr>\n      <th>1</th>\n      <td>1</td>\n      <td>Zenon</td>\n      <td>Zatyracz</td>\n      <td>48504147529</td>\n      <td>male</td>\n      <td>Szczecin, Poland</td>\n    </tr>\n    <tr>\n      <th>2</th>\n      <td>2</td>\n      <td>Edward</td>\n      <td>Bocheński</td>\n      <td>48504147555</td>\n      <td>male</td>\n      <td>Nowy Sacz</td>\n    </tr>\n    <tr>\n      <th>3</th>\n      <td>3</td>\n      <td>Krzys</td>\n      <td>Kul</td>\n      <td>48504147598</td>\n      <td>male</td>\n      <td>Nysa, Poland</td>\n    </tr>\n    <tr>\n      <th>4</th>\n      <td>4</td>\n      <td>Ewa</td>\n      <td>Ptaszek</td>\n      <td>48504147599</td>\n      <td>female</td>\n      <td>Krynica Zdrój, Nowy Sącz, Poland</td>\n    </tr>\n    <tr>\n      <th>...</th>\n      <td>...</td>\n      <td>...</td>\n      <td>...</td>\n      <td>...</td>\n      <td>...</td>\n      <td>...</td>\n    </tr>\n    <tr>\n      <th>1300947</th>\n      <td>1300947</td>\n      <td>Karolina</td>\n      <td>Urbanczyk</td>\n      <td>48889996967</td>\n      <td>female</td>\n      <td>Ortowice</td>\n    </tr>\n    <tr>\n      <th>1300948</th>\n      <td>1300948</td>\n      <td>Dominika</td>\n      <td>Patkowska</td>\n      <td>48889998080</td>\n      <td>female</td>\n      <td>Jelesnia</td>\n    </tr>\n    <tr>\n      <th>1300949</th>\n      <td>1300949</td>\n      <td>Piotr</td>\n      <td>Łuszczyński</td>\n      <td>48889998255</td>\n      <td>male</td>\n      <td>Małusy Wielkie</td>\n    </tr>\n    <tr>\n      <th>1300950</th>\n      <td>1300950</td>\n      <td>Wojtek</td>\n      <td>Szajna</td>\n      <td>48889998437</td>\n      <td>male</td>\n      <td>Wroclaw, Poland</td>\n    </tr>\n    <tr>\n      <th>1300951</th>\n      <td>1300951</td>\n      <td>Barbara</td>\n      <td>Tochowicz</td>\n      <td>48889998495</td>\n      <td>female</td>\n      <td>Katowice, Poland</td>\n    </tr>\n  </tbody>\n</table>\n<p>1300952 rows × 6 columns</p>\n</div>"
     },
     "execution_count": 27,
     "metadata": {},
     "output_type": "execute_result"
    }
   ],
   "source": [
    "x"
   ],
   "metadata": {
    "collapsed": false,
    "pycharm": {
     "name": "#%%\n"
    }
   }
  },
  {
   "cell_type": "code",
   "execution_count": 24,
   "outputs": [],
   "source": [
    "# drop_ind[-1]\n",
    "x.to_csv('clean_users',encoding='utf-8',index=False)"
   ],
   "metadata": {
    "collapsed": false,
    "pycharm": {
     "name": "#%%\n"
    }
   }
  },
  {
   "cell_type": "code",
   "execution_count": 24,
   "outputs": [],
   "source": [],
   "metadata": {
    "collapsed": false,
    "pycharm": {
     "name": "#%%\n"
    }
   }
  }
 ],
 "metadata": {
  "kernelspec": {
   "display_name": "Python 3",
   "language": "python",
   "name": "python3"
  },
  "language_info": {
   "codemirror_mode": {
    "name": "ipython",
    "version": 2
   },
   "file_extension": ".py",
   "mimetype": "text/x-python",
   "name": "python",
   "nbconvert_exporter": "python",
   "pygments_lexer": "ipython2",
   "version": "2.7.6"
  }
 },
 "nbformat": 4,
 "nbformat_minor": 0
}