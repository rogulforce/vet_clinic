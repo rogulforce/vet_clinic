{
 "cells": [
  {
   "cell_type": "code",
   "execution_count": 2,
   "metadata": {
    "collapsed": true
   },
   "outputs": [],
   "source": [
    "import pandas as pd\n"
   ]
  },
  {
   "cell_type": "code",
   "execution_count": 3,
   "outputs": [],
   "source": [
    "x = pd.read_csv('Poland.txt',delimiter=':')"
   ],
   "metadata": {
    "collapsed": false,
    "pycharm": {
     "name": "#%%\n"
    }
   }
  },
  {
   "cell_type": "code",
   "execution_count": 6,
   "outputs": [
    {
     "data": {
      "text/plain": "         48504147507  100000880235955  Anna Węglińska female       Unnamed: 5  \\\n1075628  48604688083  100000294178428  Kuba     Ladra   male       Twardogóra   \n1250092  48607840001  100000123230607  Kuba     Ladra   male  Wroclaw, Poland   \n\n              Unnamed: 6         Unnamed: 7 Unnamed: 8  4/21/2019 12-00-00 AM  \\\n1075628       Twardogóra  In a relationship        NaN  9/18/2018 12-00-00 AM   \n1250092  Wroclaw, Poland                NaN        NaN  1/26/2019 12-00-00 AM   \n\n        Unnamed: 10 Unnamed: 11  Unnamed: 12  False  False.1  \\\n1075628         NaN         NaN          NaN  False    False   \n1250092         NaN         NaN          NaN  False    False   \n\n          4/26/2019 6-18-55 PM    9/2/2010 12-00-00 AM  \n1075628  4/26/2019 10-26-56 AM  12/16/2010 12-00-00 AM  \n1250092  4/27/2019 10-38-00 AM    9/3/2010 12-00-00 AM  ",
      "text/html": "<div>\n<style scoped>\n    .dataframe tbody tr th:only-of-type {\n        vertical-align: middle;\n    }\n\n    .dataframe tbody tr th {\n        vertical-align: top;\n    }\n\n    .dataframe thead th {\n        text-align: right;\n    }\n</style>\n<table border=\"1\" class=\"dataframe\">\n  <thead>\n    <tr style=\"text-align: right;\">\n      <th></th>\n      <th>48504147507</th>\n      <th>100000880235955</th>\n      <th>Anna</th>\n      <th>Węglińska</th>\n      <th>female</th>\n      <th>Unnamed: 5</th>\n      <th>Unnamed: 6</th>\n      <th>Unnamed: 7</th>\n      <th>Unnamed: 8</th>\n      <th>4/21/2019 12-00-00 AM</th>\n      <th>Unnamed: 10</th>\n      <th>Unnamed: 11</th>\n      <th>Unnamed: 12</th>\n      <th>False</th>\n      <th>False.1</th>\n      <th>4/26/2019 6-18-55 PM</th>\n      <th>9/2/2010 12-00-00 AM</th>\n    </tr>\n  </thead>\n  <tbody>\n    <tr>\n      <th>1075628</th>\n      <td>48604688083</td>\n      <td>100000294178428</td>\n      <td>Kuba</td>\n      <td>Ladra</td>\n      <td>male</td>\n      <td>Twardogóra</td>\n      <td>Twardogóra</td>\n      <td>In a relationship</td>\n      <td>NaN</td>\n      <td>9/18/2018 12-00-00 AM</td>\n      <td>NaN</td>\n      <td>NaN</td>\n      <td>NaN</td>\n      <td>False</td>\n      <td>False</td>\n      <td>4/26/2019 10-26-56 AM</td>\n      <td>12/16/2010 12-00-00 AM</td>\n    </tr>\n    <tr>\n      <th>1250092</th>\n      <td>48607840001</td>\n      <td>100000123230607</td>\n      <td>Kuba</td>\n      <td>Ladra</td>\n      <td>male</td>\n      <td>Wroclaw, Poland</td>\n      <td>Wroclaw, Poland</td>\n      <td>NaN</td>\n      <td>NaN</td>\n      <td>1/26/2019 12-00-00 AM</td>\n      <td>NaN</td>\n      <td>NaN</td>\n      <td>NaN</td>\n      <td>False</td>\n      <td>False</td>\n      <td>4/27/2019 10-38-00 AM</td>\n      <td>9/3/2010 12-00-00 AM</td>\n    </tr>\n  </tbody>\n</table>\n</div>"
     },
     "execution_count": 6,
     "metadata": {},
     "output_type": "execute_result"
    }
   ],
   "source": [
    "x[(x[\"Węglińska\"] == 'Ladra' )  & (x[\"Anna\"] == 'Kuba')]"
   ],
   "metadata": {
    "collapsed": false,
    "pycharm": {
     "name": "#%%\n"
    }
   }
  },
  {
   "cell_type": "code",
   "execution_count": null,
   "outputs": [],
   "source": [],
   "metadata": {
    "collapsed": false,
    "pycharm": {
     "name": "#%%\n"
    }
   }
  }
 ],
 "metadata": {
  "kernelspec": {
   "display_name": "Python 3",
   "language": "python",
   "name": "python3"
  },
  "language_info": {
   "codemirror_mode": {
    "name": "ipython",
    "version": 2
   },
   "file_extension": ".py",
   "mimetype": "text/x-python",
   "name": "python",
   "nbconvert_exporter": "python",
   "pygments_lexer": "ipython2",
   "version": "2.7.6"
  }
 },
 "nbformat": 4,
 "nbformat_minor": 0
}